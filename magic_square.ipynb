{
 "cells": [
  {
   "cell_type": "code",
   "execution_count": 1,
   "metadata": {},
   "outputs": [
    {
     "data": {
      "text/plain": [
       "square (generic function with 1 method)"
      ]
     },
     "metadata": {},
     "output_type": "display_data"
    }
   ],
   "source": [
    "function is_magic(sq, pos)\n",
    "    if pos < size(sq, 1)^2\n",
    "        if mod(pos, size(sq, 1)) == 0\n",
    "            num = pos ÷ size(sq, 1)\n",
    "            for l = 1:num\n",
    "                s2 = 0\n",
    "                for k = 1:size(sq, 1)\n",
    "                    s2 += sq[k, l]\n",
    "                end\n",
    "                if s2 != 34\n",
    "                    return false\n",
    "                end\n",
    "            end\n",
    "        end\n",
    "        return true\n",
    "    end\n",
    "    s1 = s2 = 0\n",
    "    for k = 1:size(sq, 1)\n",
    "        s1 += sq[k, k]\n",
    "        s2 += sq[size(sq, 1)-k+1, k]\n",
    "    end\n",
    "    if s1 != s2\n",
    "        return false\n",
    "    end\n",
    "    for k = 1:size(sq, 1)\n",
    "        s2 = 0\n",
    "        for l = 1:size(sq, 1)\n",
    "            s2 += sq[k, l]\n",
    "        end\n",
    "        if s1 != s2\n",
    "            return false\n",
    "        end\n",
    "    end\n",
    "    for k = 1:size(sq, 1)\n",
    "        s2 = 0\n",
    "        for l = 1:size(sq, 1)\n",
    "            s2 += sq[l, k]\n",
    "        end\n",
    "        if s1 != s2\n",
    "            return false\n",
    "        end\n",
    "    end\n",
    "    return true\n",
    "end\n",
    "\n",
    "function place(sq, numbers, pos)\n",
    "\n",
    "    for (n, v) in pairs(numbers)\n",
    "        if !v\n",
    "            continue\n",
    "        end\n",
    "        sq[pos] = n\n",
    "        if is_magic(sq, pos)\n",
    "            if pos == prod(size(sq))\n",
    "                return true\n",
    "            end\n",
    "            numbers[n] = false\n",
    "            if place(sq, numbers, pos + 1)\n",
    "                return true\n",
    "            end\n",
    "            numbers[n] = true\n",
    "        end\n",
    "    end\n",
    "    return false\n",
    "end\n",
    "\n",
    "function square(sz)\n",
    "    num = sz^2\n",
    "    sq = zeros(Int, sz, sz)\n",
    "    numbers = trues(num)\n",
    "    sq[1] = 11\n",
    "    sq[2] = 14\n",
    "    numbers[11] = false\n",
    "    numbers[14] = false\n",
    "    if place(sq, numbers, 3)\n",
    "        return sq\n",
    "    else\n",
    "        return nothing\n",
    "    end\n",
    "end\n"
   ]
  },
  {
   "cell_type": "code",
   "execution_count": 2,
   "metadata": {},
   "outputs": [
    {
     "data": {
      "text/plain": [
       "4×4 Matrix{Int64}:\n",
       " 11   2  16   5\n",
       " 14   7   9   4\n",
       "  1  12   6  15\n",
       "  8  13   3  10"
      ]
     },
     "metadata": {},
     "output_type": "display_data"
    }
   ],
   "source": [
    "\n",
    "square(4)"
   ]
  }
 ],
 "metadata": {
  "kernelspec": {
   "display_name": "Julia 1.7.2",
   "language": "julia",
   "name": "julia-1.7"
  },
  "language_info": {
   "file_extension": ".jl",
   "mimetype": "application/julia",
   "name": "julia",
   "version": "1.7.2"
  },
  "orig_nbformat": 4
 },
 "nbformat": 4,
 "nbformat_minor": 2
}
